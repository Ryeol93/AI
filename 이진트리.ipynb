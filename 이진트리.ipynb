{
  "nbformat": 4,
  "nbformat_minor": 0,
  "metadata": {
    "colab": {
      "name": "이진트리.ipynb",
      "provenance": [],
      "authorship_tag": "ABX9TyNxhrWfrkxSqyfSAz9b4PqF",
      "include_colab_link": true
    },
    "kernelspec": {
      "name": "python3",
      "display_name": "Python 3"
    },
    "language_info": {
      "name": "python"
    }
  },
  "cells": [
    {
      "cell_type": "markdown",
      "metadata": {
        "id": "view-in-github",
        "colab_type": "text"
      },
      "source": [
        "<a href=\"https://colab.research.google.com/github/Ryeol93/AI/blob/main/%EC%9D%B4%EC%A7%84%ED%8A%B8%EB%A6%AC.ipynb\" target=\"_parent\"><img src=\"https://colab.research.google.com/assets/colab-badge.svg\" alt=\"Open In Colab\"/></a>"
      ]
    },
    {
      "cell_type": "code",
      "metadata": {
        "id": "7xgG7ut-PlUc"
      },
      "source": [
        "# 이진트리 binary tree \n",
        "#           최대 두개의 자식 노드를 가지는 트리 형태의 자료구조\n",
        "#           단순히 값을 저장하기 위한 용도 보다는 효율적인 탐색과 정렬을 위해 사용된다."
      ],
      "execution_count": null,
      "outputs": []
    },
    {
      "cell_type": "code",
      "metadata": {
        "colab": {
          "base_uri": "https://localhost:8080/"
        },
        "id": "eMWcqSs0QILW",
        "outputId": "71c77273-b164-42ac-d32a-eeac3f916ca4"
      },
      "source": [
        "# node 클래스는 node와 좌우 세개의 속성을 정의       \n",
        "class Node(object):\n",
        "    def __init__(self, data):\n",
        "        self.data = data\n",
        "        self.left = self.right = None\n",
        "\n",
        "\n",
        "class BinarySearchTree(object):\n",
        "    def __init__(self):\n",
        "        self.root = None\n",
        "        \n",
        "        # 처음에는 비어 있는 트리\n",
        "\n",
        "        # insert()매서드를 구현하여 세 원소를 추가할 수 있도록 구현\n",
        "        # 새로 추가할 원소의 값을 현재 노드 값과 비교하여 왼쪽/오른쪽 중 알맞은 위치로\n",
        "        # 노드를 옮겨가며 삽입 위치를 확인한다.\n",
        "    def insert(self, data):\n",
        "        self.root = self._insert_value(self.root, data)\n",
        "        return self.root is not None\n",
        "\n",
        "\n",
        "    def _insert_value(self, node, data):\n",
        "        if node is None:\n",
        "            node = Node(data)\n",
        "        else:\n",
        "            if data <= node.data:\n",
        "                node.left = self._insert_value(node.left, data)\n",
        "            else:\n",
        "                node.right = self._insert_value(node.right, data)\n",
        "        return node\n",
        "\n",
        "\n",
        "        # 원하는 값의 존재 유무를 확인할 수 있도록 find() 매서드를 구현한다.\n",
        "        # 역시 대소관계를 비교하여 쉽게 구현한다.\n",
        "    def find(self, key):\n",
        "        return self._find_value(self.root, key)\n",
        "\n",
        "\n",
        "    def _find_value(self, root, key):\n",
        "        if root is None or root.data == key:\n",
        "            return root is not None\n",
        "        elif key < root.data:\n",
        "            return self._find_value(root.left, key)\n",
        "        else:\n",
        "            return self._find_value(root.right, key)\n",
        "\n",
        "\n",
        "array = [40,4,34,45,14,55,48,13,15,49,47]\n",
        "\n",
        "bst = BinarySearchTree()\n",
        "for x in array:\n",
        "  bst.insert(x)\n",
        "\n",
        "\n",
        "print(bst.find(15))  # True\n",
        "print(bst.find(17))  # False"
      ],
      "execution_count": 6,
      "outputs": [
        {
          "output_type": "stream",
          "name": "stdout",
          "text": [
            "True\n",
            "False\n"
          ]
        }
      ]
    },
    {
      "cell_type": "code",
      "metadata": {
        "id": "8bA6xr_1QiAP"
      },
      "source": [
        ""
      ],
      "execution_count": null,
      "outputs": []
    }
  ]
}